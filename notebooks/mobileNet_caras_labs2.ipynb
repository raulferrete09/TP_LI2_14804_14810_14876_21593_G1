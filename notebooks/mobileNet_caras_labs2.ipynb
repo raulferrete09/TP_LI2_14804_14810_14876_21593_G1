{
  "nbformat": 4,
  "nbformat_minor": 0,
  "metadata": {
    "colab": {
      "name": "mobileNet_caras_labs2.ipynb",
      "provenance": [],
      "collapsed_sections": []
    },
    "kernelspec": {
      "name": "python3",
      "display_name": "Python 3"
    },
    "language_info": {
      "name": "python"
    }
  },
  "cells": [
    {
      "cell_type": "code",
      "metadata": {
        "id": "kixYXkB1pJny",
        "colab": {
          "base_uri": "https://localhost:8080/"
        },
        "outputId": "89d95777-9e3a-4b17-eea3-8b2f33855a56"
      },
      "source": [
        "from zipfile import ZipFile\n",
        "filename=\"MobileNet.zip\"\n",
        "\n",
        "#with ZipFile(filename, 'r') as zip:\n",
        "  #zip.extractall()\n",
        "  #print(\"done\")"
      ],
      "execution_count": null,
      "outputs": [
        {
          "output_type": "stream",
          "text": [
            "done\n"
          ],
          "name": "stdout"
        }
      ]
    },
    {
      "cell_type": "code",
      "metadata": {
        "id": "isr3fYIAd2HP"
      },
      "source": [
        "import os\n",
        "import numpy as np\n",
        "import glob\n",
        "import shutil\n",
        "import matplotlib.pyplot as plt\n",
        "\n",
        "import tensorflow as tf\n",
        "from tensorflow.keras.preprocessing.image import ImageDataGenerator\n",
        "\n",
        "from google.colab import files\n",
        "\n",
        "base_dir = '/content/MobileNet/'\n",
        "classes = ['Joaquim', 'Pontes', 'Raul', 'Vale']\n",
        "dataset_split_percentage = 0.8\n",
        "epochs = 60\n",
        "batch_size = 64\n",
        "IMG_SHAPE = 224\n",
        "\n",
        "\n",
        "for cl in classes:\n",
        "    img_path = os.path.join(base_dir, cl)\n",
        "    images = glob.glob(img_path + '/*.jpg')\n",
        "    print(\"{}: {} Images\".format(cl, len(images)))\n",
        "    num_train = int(round(len(images) * dataset_split_percentage))\n",
        "    train, val = images[:num_train], images[num_train:]\n",
        "\n",
        "    for t in train:\n",
        "        if not os.path.exists(os.path.join(base_dir, 'train', cl)):\n",
        "            os.makedirs(os.path.join(base_dir, 'train', cl))\n",
        "        bn=os.path.basename(t)\n",
        "        if not os.path.exists(os.path.join(base_dir, 'train', cl, bn)):\n",
        "            shutil.move(t, os.path.join(base_dir, 'train', cl))\n",
        "\n",
        "    for v in val:\n",
        "        if not os.path.exists(os.path.join(base_dir, 'val', cl)):\n",
        "            os.makedirs(os.path.join(base_dir, 'val', cl))\n",
        "        bn = os.path.basename(v)\n",
        "        if not os.path.exists(os.path.join(base_dir, 'val', cl, bn)):\n",
        "            shutil.move(v, os.path.join(base_dir, 'val', cl))\n",
        "\n",
        "print(\"training images:\", round(len(images)*dataset_split_percentage))\n",
        "train_dir = os.path.join(base_dir, 'train')\n",
        "val_dir = os.path.join(base_dir, 'val')\n",
        "\n",
        "\n",
        "##  Model\n",
        "image_gen_train = ImageDataGenerator(\n",
        "    rescale=1./255,\n",
        "    rotation_range=45,\n",
        "    width_shift_range=.15,\n",
        "    height_shift_range=.15,\n",
        "    horizontal_flip=True,\n",
        "    zoom_range=0.5)\n",
        "train_data_gen = image_gen_train.flow_from_directory(\n",
        "    batch_size=batch_size,\n",
        "    directory=train_dir,\n",
        "    shuffle=True,\n",
        "    target_size=(IMG_SHAPE,IMG_SHAPE),\n",
        "    class_mode='sparse')\n",
        "\n",
        "image_gen_val = ImageDataGenerator(rescale=1./255)\n",
        "val_data_gen = image_gen_val.flow_from_directory(\n",
        "    batch_size=batch_size,\n",
        "    directory=val_dir,\n",
        "    target_size=(IMG_SHAPE, IMG_SHAPE),\n",
        "    class_mode='sparse')\n",
        "\n",
        "modelMobilenet = tf.keras.applications.mobilenet_v2.MobileNetV2(weights='imagenet')\n",
        "#modelMobilenet.summary()\n",
        "modelMobilenet.trainable = False\n",
        "\n",
        "base_output = modelMobilenet.layers[-2].output \n",
        "new_output = tf.keras.layers.Dense(4, activation=\"softmax\")(base_output)\n",
        "model = tf.keras.models.Model(inputs=modelMobilenet.inputs, outputs=new_output)\n",
        "model.summary()\n",
        "\n",
        "model.compile(\n",
        "    optimizer='adam',\n",
        "    loss='sparse_categorical_crossentropy',\n",
        "    metrics=['accuracy'])\n",
        "\n",
        "\n",
        "history = model.fit_generator(\n",
        "    train_data_gen,\n",
        "    steps_per_epoch=int(np.ceil(train_data_gen.n / float(batch_size))),\n",
        "    epochs=epochs,\n",
        "    validation_data=val_data_gen,\n",
        "    validation_steps=int(np.ceil(val_data_gen.n / float(batch_size))) )\n",
        "\n",
        "acc = history.history['accuracy']\n",
        "val_acc = history.history['val_accuracy']\n",
        "loss = history.history['loss']\n",
        "val_loss = history.history['val_loss']\n",
        "epochs_range = range(epochs)\n",
        "\n",
        "plt.figure(figsize=(8, 8))\n",
        "plt.subplot(2, 1, 1)\n",
        "plt.plot(epochs_range, acc, label='Training Accuracy')\n",
        "plt.plot(epochs_range, val_acc, label='Validation Accuracy')\n",
        "plt.legend(loc='lower right')\n",
        "plt.title('Training and Validation Accuracy')\n",
        "\n",
        "plt.subplot(2, 1, 2)\n",
        "plt.plot(epochs_range, loss, label='Training Loss')\n",
        "plt.plot(epochs_range, val_loss, label='Validation Loss')\n",
        "plt.legend(loc='upper right')\n",
        "plt.title('Training and Validation Loss')\n",
        "plt.savefig(\"plots_\"+str(epochs)+\"epoch.jpg\")\n",
        "files.download(\"plots_\"+str(epochs)+\"epoch.jpg\")\n",
        "plt.show()"
      ],
      "execution_count": null,
      "outputs": []
    },
    {
      "cell_type": "code",
      "metadata": {
        "id": "GkW9U4g5Ll94"
      },
      "source": [
        "image_gen_test = ImageDataGenerator(rescale=1./255)\n",
        "test_data_gen = image_gen_test.flow_from_directory(\n",
        "    batch_size=batch_size,\n",
        "    directory=val_dir,\n",
        "    target_size=(IMG_SHAPE, IMG_SHAPE),\n",
        "    class_mode='sparse')\n",
        "X_test, y_test=test_data_gen.next()\n",
        "\n",
        "Y_predict = model.predict(X_test)\n",
        "\n",
        "#show\n",
        "Y_predict[0]"
      ],
      "execution_count": null,
      "outputs": []
    },
    {
      "cell_type": "code",
      "metadata": {
        "id": "1Ez-RB73L8qP"
      },
      "source": [
        "Y_predicted_label = np.argmax(Y_predict, axis=-1)\n",
        "Y_predicted_label"
      ],
      "execution_count": null,
      "outputs": []
    },
    {
      "cell_type": "code",
      "metadata": {
        "colab": {
          "base_uri": "https://localhost:8080/"
        },
        "id": "rx0xiI5YmQz9",
        "outputId": "dec75e87-8cd6-40e0-f744-016d1f9665e8"
      },
      "source": [
        "from sklearn import metrics\n",
        "cm = metrics.confusion_matrix(y_test, Y_predicted_label, labels=[0, 1, 2, 3])\n",
        "print(\"Confusion Matrix:\")\n",
        "print(cm)\n",
        "\n",
        "prfs = metrics.precision_recall_fscore_support(y_test, Y_predicted_label)\n",
        "print(\"Precision Recall F-score Support:\")\n",
        "print(prfs)\n",
        "\n",
        "accuracy = metrics.accuracy_score(y_test, Y_predicted_label)\n",
        "print(\"Accuracy:\")\n",
        "print(accuracy)\n",
        "\n",
        "cr = metrics.classification_report(y_test, Y_predicted_label)\n",
        "print(\"Classification Report:\")\n",
        "print(cr)"
      ],
      "execution_count": null,
      "outputs": [
        {
          "output_type": "stream",
          "text": [
            "Confusion Matrix:\n",
            "[[25  0  2  0]\n",
            " [ 0 18  0  1]\n",
            " [ 1  0 22  0]\n",
            " [ 0  0  0 31]]\n",
            "Precision Recall F-score Support:\n",
            "(array([0.96, 1.  , 0.92, 0.97]), array([0.93, 0.95, 0.96, 1.  ]), array([0.94, 0.97, 0.94, 0.98]), array([27, 19, 23, 31]))\n",
            "Accuracy:\n",
            "0.96\n",
            "Classification Report:\n",
            "              precision    recall  f1-score   support\n",
            "\n",
            "         0.0       0.96      0.93      0.94        27\n",
            "         1.0       1.00      0.95      0.97        19\n",
            "         2.0       0.92      0.96      0.94        23\n",
            "         3.0       0.97      1.00      0.98        31\n",
            "\n",
            "    accuracy                           0.96       100\n",
            "   macro avg       0.96      0.96      0.96       100\n",
            "weighted avg       0.96      0.96      0.96       100\n",
            "\n"
          ],
          "name": "stdout"
        }
      ]
    },
    {
      "cell_type": "code",
      "metadata": {
        "colab": {
          "base_uri": "https://localhost:8080/",
          "height": 840
        },
        "id": "HhFshcAVAugA",
        "outputId": "24047956-d065-423e-e704-9559463ebbeb"
      },
      "source": [
        "from sklearn.metrics import confusion_matrix\n",
        "import tensorflow as tf\n",
        "import itertools\n",
        "\n",
        "def plot_confusion_matrix(cm, classes,\n",
        "                          normalize=False,\n",
        "                          title='Confusion matrix',\n",
        "                          cmap=plt.cm.Blues):\n",
        "  \"\"\"\n",
        "  This function prints and plots the confusion matrix.\n",
        "  Normalization can be applied by setting `normalize=True`.\n",
        "  \"\"\"\n",
        "  saveName=\"\"\n",
        "  if normalize:\n",
        "      cm = cm.astype('float') / cm.sum(axis=1)[:, np.newaxis]\n",
        "      cm = cm * 100\n",
        "      print(\"\\nNormalized confusion matrix\")\n",
        "      saveName=str(epochs)+\"epoch_ncm\"\n",
        "  else:\n",
        "      print('\\nConfusion matrix, without normalization')\n",
        "      saveName=str(epochs)+\"epoch_cm\"\n",
        "  print(cm)\n",
        "  print ()\n",
        "\n",
        "  plt.imshow(cm, interpolation='nearest', cmap=cmap)\n",
        "  plt.title(title)\n",
        "  plt.colorbar()\n",
        "  tick_marks = np.arange(len(classes))\n",
        "  plt.xticks(tick_marks, classes, rotation=45)\n",
        "  plt.yticks(tick_marks, classes)\n",
        "\n",
        "  fmt = '.0f' if normalize else 'd'\n",
        "  thresh = cm.max() / 2.\n",
        "  for i, j in itertools.product(range(cm.shape[0]), range(cm.shape[1])):\n",
        "      plt.text(j, i, format(cm[i, j], fmt),\n",
        "                horizontalalignment=\"center\",\n",
        "                color=\"white\" if cm[i, j] > thresh else \"black\")\n",
        "\n",
        "  plt.tight_layout()\n",
        "  plt.ylabel('True label')\n",
        "  plt.xlabel('Predicted label')\n",
        "  plt.savefig(\"plots_\"+saveName+\".jpg\")\n",
        "  files.download(\"plots_\"+saveName+\".jpg\")\n",
        "  plt.show()\n",
        "  \n",
        "\n",
        "# Compute confusion matrix\n",
        "predictions = model.predict(X_test)\n",
        "class_names = classes\n",
        "\n",
        "y_pred = np.argmax(predictions, axis=1)\n",
        "y_pred = tf.keras.utils.to_categorical(y_pred, num_classes=4, dtype=\"float32\")\n",
        "cnf_matrix = confusion_matrix(y_test, y_pred.argmax(axis=1))\n",
        "np.set_printoptions(precision=2) # set NumPy to 2 decimal places\n",
        "\n",
        "# Plot non-normalized confusion matrix\n",
        "plt.figure()\n",
        "plot_confusion_matrix(cnf_matrix, classes=class_names,\n",
        "                      title='Confusion matrix, without normalization')\n",
        "\n",
        "# Plot normalized confusion matrix\n",
        "plt.figure()\n",
        "plot_confusion_matrix(cnf_matrix, classes=class_names, normalize=True,\n",
        "                      title='Normalized confusion matrix')"
      ],
      "execution_count": null,
      "outputs": [
        {
          "output_type": "stream",
          "text": [
            "\n",
            "Confusion matrix, without normalization\n",
            "[[25  0  2  0]\n",
            " [ 0 18  0  1]\n",
            " [ 1  0 22  0]\n",
            " [ 0  0  0 31]]\n",
            "\n"
          ],
          "name": "stdout"
        },
        {
          "output_type": "display_data",
          "data": {
            "application/javascript": [
              "\n",
              "    async function download(id, filename, size) {\n",
              "      if (!google.colab.kernel.accessAllowed) {\n",
              "        return;\n",
              "      }\n",
              "      const div = document.createElement('div');\n",
              "      const label = document.createElement('label');\n",
              "      label.textContent = `Downloading \"${filename}\": `;\n",
              "      div.appendChild(label);\n",
              "      const progress = document.createElement('progress');\n",
              "      progress.max = size;\n",
              "      div.appendChild(progress);\n",
              "      document.body.appendChild(div);\n",
              "\n",
              "      const buffers = [];\n",
              "      let downloaded = 0;\n",
              "\n",
              "      const channel = await google.colab.kernel.comms.open(id);\n",
              "      // Send a message to notify the kernel that we're ready.\n",
              "      channel.send({})\n",
              "\n",
              "      for await (const message of channel.messages) {\n",
              "        // Send a message to notify the kernel that we're ready.\n",
              "        channel.send({})\n",
              "        if (message.buffers) {\n",
              "          for (const buffer of message.buffers) {\n",
              "            buffers.push(buffer);\n",
              "            downloaded += buffer.byteLength;\n",
              "            progress.value = downloaded;\n",
              "          }\n",
              "        }\n",
              "      }\n",
              "      const blob = new Blob(buffers, {type: 'application/binary'});\n",
              "      const a = document.createElement('a');\n",
              "      a.href = window.URL.createObjectURL(blob);\n",
              "      a.download = filename;\n",
              "      div.appendChild(a);\n",
              "      a.click();\n",
              "      div.remove();\n",
              "    }\n",
              "  "
            ],
            "text/plain": [
              "<IPython.core.display.Javascript object>"
            ]
          },
          "metadata": {
            "tags": []
          }
        },
        {
          "output_type": "display_data",
          "data": {
            "application/javascript": [
              "download(\"download_6ed92e65-fa91-435e-9361-598dd9d792e6\", \"plots_80epoch_cm.jpg\", 24839)"
            ],
            "text/plain": [
              "<IPython.core.display.Javascript object>"
            ]
          },
          "metadata": {
            "tags": []
          }
        },
        {
          "output_type": "display_data",
          "data": {
            "image/png": "[encoded data removed]",
            "text/plain": [
              "<Figure size 432x288 with 2 Axes>"
            ]
          },
          "metadata": {
            "tags": [],
            "needs_background": "light"
          }
        },
        {
          "output_type": "stream",
          "text": [
            "\n",
            "Normalized confusion matrix\n",
            "[[ 92.59   0.     7.41   0.  ]\n",
            " [  0.    94.74   0.     5.26]\n",
            " [  4.35   0.    95.65   0.  ]\n",
            " [  0.     0.     0.   100.  ]]\n",
            "\n"
          ],
          "name": "stdout"
        },
        {
          "output_type": "display_data",
          "data": {
            "application/javascript": [
              "\n",
              "    async function download(id, filename, size) {\n",
              "      if (!google.colab.kernel.accessAllowed) {\n",
              "        return;\n",
              "      }\n",
              "      const div = document.createElement('div');\n",
              "      const label = document.createElement('label');\n",
              "      label.textContent = `Downloading \"${filename}\": `;\n",
              "      div.appendChild(label);\n",
              "      const progress = document.createElement('progress');\n",
              "      progress.max = size;\n",
              "      div.appendChild(progress);\n",
              "      document.body.appendChild(div);\n",
              "\n",
              "      const buffers = [];\n",
              "      let downloaded = 0;\n",
              "\n",
              "      const channel = await google.colab.kernel.comms.open(id);\n",
              "      // Send a message to notify the kernel that we're ready.\n",
              "      channel.send({})\n",
              "\n",
              "      for await (const message of channel.messages) {\n",
              "        // Send a message to notify the kernel that we're ready.\n",
              "        channel.send({})\n",
              "        if (message.buffers) {\n",
              "          for (const buffer of message.buffers) {\n",
              "            buffers.push(buffer);\n",
              "            downloaded += buffer.byteLength;\n",
              "            progress.value = downloaded;\n",
              "          }\n",
              "        }\n",
              "      }\n",
              "      const blob = new Blob(buffers, {type: 'application/binary'});\n",
              "      const a = document.createElement('a');\n",
              "      a.href = window.URL.createObjectURL(blob);\n",
              "      a.download = filename;\n",
              "      div.appendChild(a);\n",
              "      a.click();\n",
              "      div.remove();\n",
              "    }\n",
              "  "
            ],
            "text/plain": [
              "<IPython.core.display.Javascript object>"
            ]
          },
          "metadata": {
            "tags": []
          }
        },
        {
          "output_type": "display_data",
          "data": {
            "application/javascript": [
              "download(\"download_1047b701-664f-40a7-9c05-aabcb9ad94d5\", \"plots_80epoch_ncm.jpg\", 24035)"
            ],
            "text/plain": [
              "<IPython.core.display.Javascript object>"
            ]
          },
          "metadata": {
            "tags": []
          }
        },
        {
          "output_type": "display_data",
          "data": {
            "image/png": "[encoded data removed]",
            "text/plain": [
              "<Figure size 432x288 with 2 Axes>"
            ]
          },
          "metadata": {
            "tags": [],
            "needs_background": "light"
          }
        }
      ]
    },
    {
      "cell_type": "code",
      "metadata": {
        "id": "xuzgAQjY_w9X"
      },
      "source": [
        "#SAVE MODEL\n",
        "model.save(\"MobileNet_Caras_\"+str(epochs)+\"epoch.h5\")\n",
        "files.download(\"MobileNet_Caras_\"+str(epochs)+\"epoch.h5\")"
      ],
      "execution_count": null,
      "outputs": []
    }
  ]
}